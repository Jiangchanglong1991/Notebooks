{
 "cells": [
  {
   "cell_type": "markdown",
   "metadata": {},
   "source": [
    "# Series & DataFrame 的索引\n",
    "<br>\n",
    "<h2>Table of Contents</h2>\n",
    "<h3>Series中的索引</h3>\n",
    "<ol>\n",
    "    <li><a href=\"#ref1\">使用index中的值进行索引</a></li>\n",
    "    <li><a href=\"#ref2\">使用下标进行索引</a></li>\n",
    "    <li><a href=\"#ref3\">假如index为数字</a></li>\n",
    "    <li><a href=\"#ref4\">使用布尔Series进行索引</a></li>\n",
    "    <li><a href=\"#ref5\">使用Index对象来进行索引</a></li>\n",
    "</ol>\n",
    "<h3>DataFrame中的索引</h3>\n",
    "<ol>\n",
    "    <li><a href=\"#ref6\">使用columns的值对列进行索引</a></li>\n",
    "    <li><a href=\"#ref7\">切片或者布尔Series对行进行索引</a></li>\n",
    "    <li><a href=\"#ref8\">使用loc和iloc进行索引</a></li>\n",
    "    \n",
    "</ol>\n",
    "<p></p>\n",
    "\n",
    "<br>\n",
    "\n",
    "在对Series对象和DataFrame对象进行索引的时候要明确这么一个概念：是使用下标进行索引，还是使用关键字进行索引。比如list进行索引的时候使用的是下标，而dict索引的时候使用的是关键字。\n",
    "\n",
    "使用下标索引的时候下标总是从0开始的，而且索引值总是数字。而使用关键字进行索引，关键字是key里面的值，既可以是数字，也可以是字符串等。\n",
    "\n",
    "## Series对象介绍：\n",
    "Series对象是由索引index和值values组成的，一个index对应一个value。其中index是pandas中的Index对象。values是numpy中的数组对象。"
   ]
  },
  {
   "cell_type": "code",
   "execution_count": 22,
   "metadata": {},
   "outputs": [
    {
     "name": "stdout",
     "output_type": "stream",
     "text": [
      "a    2\n",
      "b    3\n",
      "c    4\n",
      "d    5\n",
      "dtype: int64\n",
      ".........................\n",
      "Index(['a', 'b', 'c', 'd'], dtype='object')\n",
      ".........................\n",
      "[2 3 4 5]\n"
     ]
    }
   ],
   "source": [
    "import pandas as pd\n",
    "s1 = pd.Series([2,3,4,5], index=['a', 'b', 'c', 'd'])\n",
    "print(s1)\n",
    "print(\".........................\")\n",
    "print(s1.index)\n",
    "print(\".........................\")\n",
    "print(s1.values)"
   ]
  },
  {
   "cell_type": "markdown",
   "metadata": {},
   "source": [
    "<a id=\"ref1\"></a>\n",
    "### 1. 使用index中的值进行索引"
   ]
  },
  {
   "cell_type": "code",
   "execution_count": 23,
   "metadata": {},
   "outputs": [
    {
     "name": "stdout",
     "output_type": "stream",
     "text": [
      "2\n",
      ".........................\n",
      "a    2\n",
      "d    5\n",
      "dtype: int64\n",
      ".........................\n",
      "b    3\n",
      "c    4\n",
      "d    5\n",
      "dtype: int64\n",
      ".........................\n"
     ]
    }
   ],
   "source": [
    "print(s1['a'])\n",
    "print(\".........................\")\n",
    "print(s1[['a','d']])\n",
    "print(\".........................\")\n",
    "print(s1['b':'d'])\n",
    "print(\".........................\")"
   ]
  },
  {
   "cell_type": "markdown",
   "metadata": {},
   "source": [
    "<a id=\"ref2\"></a>\n",
    "### 2. 使用下标进行索引"
   ]
  },
  {
   "cell_type": "code",
   "execution_count": 24,
   "metadata": {},
   "outputs": [
    {
     "name": "stdout",
     "output_type": "stream",
     "text": [
      "2\n",
      ".........................\n",
      "a    2\n",
      "d    5\n",
      "dtype: int64\n",
      ".........................\n",
      "b    3\n",
      "c    4\n",
      "dtype: int64\n"
     ]
    }
   ],
   "source": [
    "print(s1[0])\n",
    "print(\".........................\")\n",
    "print(s1[[0,3]])\n",
    "print(\".........................\")\n",
    "print(s1[1:3])   "
   ]
  },
  {
   "cell_type": "markdown",
   "metadata": {},
   "source": [
    "<a id=\"ref3\"></a>\n",
    "### 3.特殊情况：\n",
    "上面的index为字符串，假如index为数字，这个时候进行索引是按照index值进行还是按照下标进行？"
   ]
  },
  {
   "cell_type": "code",
   "execution_count": 25,
   "metadata": {},
   "outputs": [
    {
     "name": "stdout",
     "output_type": "stream",
     "text": [
      "3\n",
      ".........................\n",
      "2    3\n",
      "4    5\n",
      "dtype: int64\n",
      ".........................\n",
      "2    3\n",
      "3    4\n",
      "dtype: int64\n"
     ]
    }
   ],
   "source": [
    "s1 = pd.Series([2,3,4,5], index=[1,2,3,4])\n",
    "print(s1[2]) # print(s1[0]) 会报错\n",
    "print(\".........................\")\n",
    "print(s1[[2,4]])\n",
    "print(\".........................\")\n",
    "print(s1[1:3])"
   ]
  },
  {
   "cell_type": "markdown",
   "metadata": {},
   "source": [
    "<a id=\"ref4\"></a>\n",
    "### 4. 使用布尔Series进行索引\n",
    "使用布尔Series进行索引的时候，其实是要求布尔Series和我们的索引对象有相同的index。"
   ]
  },
  {
   "cell_type": "code",
   "execution_count": 26,
   "metadata": {},
   "outputs": [
    {
     "name": "stdout",
     "output_type": "stream",
     "text": [
      "a    False\n",
      "b    False\n",
      "c     True\n",
      "d     True\n",
      "dtype: bool\n",
      ".........................\n",
      "c    4\n",
      "d    5\n",
      "dtype: int64\n",
      ".........................\n"
     ]
    }
   ],
   "source": [
    "s1 = pd.Series([2,3,4,5], index=['a', 'b', 'c', 'd'])\n",
    "print(s1 > 3)\n",
    "print(\".........................\")\n",
    "print(s1[s1 > 3])\n",
    "print(\".........................\")"
   ]
  },
  {
   "cell_type": "markdown",
   "metadata": {},
   "source": [
    "<a id=\"ref5\"></a>\n",
    "### 5. 使用Index对象来进行索引\n",
    "使用Index对象进行索引的时候，和使用值索引没有本质的区别。因为Index里面也存入了很多值，可以把Index看做一个list。\n",
    "\n",
    "## DataFrame对象介绍：\n",
    "DataFrame对象是一个由行列组成的表。DataFrame中行由columns组成，列由index组成，它们都是Index对象。它的值还是numpy数组。"
   ]
  },
  {
   "cell_type": "code",
   "execution_count": 27,
   "metadata": {},
   "outputs": [
    {
     "name": "stdout",
     "output_type": "stream",
     "text": [
      "RangeIndex(start=0, stop=4, step=1)\n",
      ".........................\n",
      "Index(['name', 'age', 'score'], dtype='object')\n",
      ".........................\n",
      "[['ming' 12 80.3]\n",
      " ['hong' 13 88.2]\n",
      " ['gang' 14 90.0]\n",
      " ['tian' 20 99.9]]\n"
     ]
    }
   ],
   "source": [
    "data = {'name':['ming', 'hong', 'gang', 'tian'], 'age':[12, 13, 14, 20], 'score':[80.3, 88.2, 90, 99.9]}\n",
    "df1 = pd.DataFrame(data)\n",
    "print(df1.index)\n",
    "print(\".........................\")\n",
    "print(df1.columns)\n",
    "print(\".........................\")\n",
    "print(df1.values)"
   ]
  },
  {
   "cell_type": "markdown",
   "metadata": {},
   "source": [
    "<a id=\"ref1\"></a>\n",
    "### 1. 使用columns的值对列进行索引\n",
    "直接使用columns中的值进行索引，得到的是一列或者是多列的值"
   ]
  },
  {
   "cell_type": "code",
   "execution_count": 28,
   "metadata": {},
   "outputs": [
    {
     "name": "stdout",
     "output_type": "stream",
     "text": [
      "0    ming\n",
      "1    hong\n",
      "2    gang\n",
      "3    tian\n",
      "Name: name, dtype: object\n",
      ".........................\n",
      "   name  age\n",
      "0  ming   12\n",
      "1  hong   13\n",
      "2  gang   14\n",
      "3  tian   20\n",
      ".........................\n"
     ]
    }
   ],
   "source": [
    "print(df1['name'])\n",
    "print(\".........................\")\n",
    "print(df1[['name','age']])\n",
    "print(\".........................\")\n",
    "#print(df1[0]) 这个就是错误的"
   ]
  },
  {
   "cell_type": "markdown",
   "metadata": {},
   "source": [
    "<a id=\"ref7\"></a>\n",
    "### 2. 切片或者布尔Series对行进行索引\n",
    "使用切片索引，或者布尔类型Series进行索引："
   ]
  },
  {
   "cell_type": "code",
   "execution_count": 29,
   "metadata": {},
   "outputs": [
    {
     "name": "stdout",
     "output_type": "stream",
     "text": [
      "   name  age  score\n",
      "0  ming   12   80.3\n",
      "1  hong   13   88.2\n",
      "2  gang   14   90.0\n",
      ".........................\n",
      "   name  age  score\n",
      "2  gang   14   90.0\n",
      "3  tian   20   99.9\n"
     ]
    }
   ],
   "source": [
    "print(df1[0:3])\n",
    "print(\".........................\")\n",
    "print(df1[df1['age']>13])"
   ]
  },
  {
   "cell_type": "markdown",
   "metadata": {},
   "source": [
    "<a id=\"ref8\"></a>\n",
    "### 3. 使用loc和iloc进行索引\n",
    "本质上loc是用index和columns当中的值进行索引，而iloc是不理会index和columns当中的值的，永远都是用从0开始的下标进行索引。所以当你搞懂这句话的时候，下面的索引就会变得非常简单："
   ]
  },
  {
   "cell_type": "code",
   "execution_count": 30,
   "metadata": {
    "scrolled": true
   },
   "outputs": [
    {
     "name": "stdout",
     "output_type": "stream",
     "text": [
      "name     tian\n",
      "age        20\n",
      "score    99.9\n",
      "Name: 3, dtype: object\n",
      ".........................\n",
      "0    12\n",
      "1    13\n",
      "2    14\n",
      "3    20\n",
      "Name: age, dtype: int64\n",
      ".........................\n",
      "name     tian\n",
      "age        20\n",
      "score    99.9\n",
      "Name: 3, dtype: object\n",
      ".........................\n",
      "0    12\n",
      "1    13\n",
      "2    14\n",
      "3    20\n",
      "Name: age, dtype: int64\n"
     ]
    }
   ],
   "source": [
    "print(df1.loc[3])\n",
    "print(\".........................\")\n",
    "print(df1.loc[:,'age'])\n",
    "print(\".........................\")\n",
    "print(df1.iloc[3])\n",
    "print(\".........................\")\n",
    "print(df1.iloc[:,1])"
   ]
  },
  {
   "cell_type": "code",
   "execution_count": null,
   "metadata": {},
   "outputs": [],
   "source": []
  },
  {
   "cell_type": "code",
   "execution_count": null,
   "metadata": {},
   "outputs": [],
   "source": []
  }
 ],
 "metadata": {
  "kernelspec": {
   "display_name": "Python 3",
   "language": "python",
   "name": "python3"
  },
  "language_info": {
   "codemirror_mode": {
    "name": "ipython",
    "version": 3
   },
   "file_extension": ".py",
   "mimetype": "text/x-python",
   "name": "python",
   "nbconvert_exporter": "python",
   "pygments_lexer": "ipython3",
   "version": "3.6.6"
  }
 },
 "nbformat": 4,
 "nbformat_minor": 2
}
