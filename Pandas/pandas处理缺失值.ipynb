{
 "cells": [
  {
   "cell_type": "markdown",
   "metadata": {},
   "source": [
    "# 1. 缺失值的判断\n",
    "pandas使用浮点值NaN(Not a Number)表示浮点数和非浮点数组中的缺失值，同时python内置None值也会被当作是缺失值。\n",
    "## 1.1 Series的缺失值判断"
   ]
  },
  {
   "cell_type": "code",
   "execution_count": 5,
   "metadata": {},
   "outputs": [
    {
     "name": "stdout",
     "output_type": "stream",
     "text": [
      "0       a\n",
      "1       b\n",
      "2     NaN\n",
      "3       c\n",
      "4    None\n",
      "dtype: object\n",
      ">>>>>>>>>>>>>>>>>>>>>>>>>>>>>>>\n",
      "0    False\n",
      "1    False\n",
      "2     True\n",
      "3    False\n",
      "4     True\n",
      "dtype: bool\n",
      ">>>>>>>>>>>>>>>>>>>>>>>>>>>>>>>\n",
      "2     NaN\n",
      "4    None\n",
      "dtype: object\n"
     ]
    }
   ],
   "source": [
    "import pandas as pd\n",
    "import numpy as np\n",
    "s = pd.Series([\"a\",\"b\",np.nan,\"c\",None])\n",
    "print(s)\n",
    "print(\">>>>>>>>>>>>>>>>>>>>>>>>>>>>>>>\")\n",
    "print(s.isnull())\n",
    "print(\">>>>>>>>>>>>>>>>>>>>>>>>>>>>>>>\")\n",
    "#输出缺失值的索引和值\n",
    "print(s[s.isnull()])"
   ]
  },
  {
   "cell_type": "markdown",
   "metadata": {},
   "source": [
    "## 1.2 DataFrame的缺失值判断"
   ]
  },
  {
   "cell_type": "code",
   "execution_count": 6,
   "metadata": {},
   "outputs": [
    {
     "name": "stdout",
     "output_type": "stream",
     "text": [
      "   0    1    2\n",
      "0  1  NaN  2.0\n",
      "1  3  4.0  NaN\n",
      ">>>>>>>>>>>>>>>>>>>>>>>>>>>>>>>\n",
      "       0      1      2\n",
      "0  False   True  False\n",
      "1  False  False   True\n",
      ">>>>>>>>>>>>>>>>>>>>>>>>>>>>>>>\n",
      "    0   1   2\n",
      "0 NaN NaN NaN\n",
      "1 NaN NaN NaN\n"
     ]
    }
   ],
   "source": [
    "a = [[1,np.nan,2],[3,4,None]]\n",
    "data = pd.DataFrame(a)\n",
    "#DataFrame的None值变成了NaN\n",
    "print(data)\n",
    "print(\">>>>>>>>>>>>>>>>>>>>>>>>>>>>>>>\")\n",
    "print(data.isnull())\n",
    "print(\">>>>>>>>>>>>>>>>>>>>>>>>>>>>>>>\")\n",
    "print(data[data.isnull()])"
   ]
  },
  {
   "cell_type": "markdown",
   "metadata": {},
   "source": [
    "# 2. 过滤缺失数据\n",
    "## 2.1 Series的缺失值过滤"
   ]
  },
  {
   "cell_type": "code",
   "execution_count": 8,
   "metadata": {},
   "outputs": [
    {
     "name": "stdout",
     "output_type": "stream",
     "text": [
      "0    a\n",
      "1    b\n",
      "3    c\n",
      "dtype: object\n",
      ">>>>>>>>>>>>>>>>>>>>>>>>>>>>>>>\n",
      "0    a\n",
      "1    b\n",
      "3    c\n",
      "dtype: object\n",
      ">>>>>>>>>>>>>>>>>>>>>>>>>>>>>>>\n",
      "0       a\n",
      "1       b\n",
      "2     NaN\n",
      "3       c\n",
      "4    None\n",
      "dtype: object\n",
      ">>>>>>>>>>>>>>>>>>>>>>>>>>>>>>>\n",
      "None\n",
      ">>>>>>>>>>>>>>>>>>>>>>>>>>>>>>>\n",
      "0    a\n",
      "1    b\n",
      "3    c\n",
      "dtype: object\n"
     ]
    }
   ],
   "source": [
    "s = pd.Series([\"a\",\"b\",np.nan,\"c\",None])\n",
    "#通过使用notnull方法来获取非缺失数据\n",
    "print(s[s.notnull()])\n",
    "print(\">>>>>>>>>>>>>>>>>>>>>>>>>>>>>>>\")\n",
    "#使用dropna方法删除缺失数据,返回一个删除后的Series\n",
    "print(s.dropna())\n",
    "print(\">>>>>>>>>>>>>>>>>>>>>>>>>>>>>>>\")\n",
    "#并没有在原来的Series上进行直接删除\n",
    "print(s)\n",
    "print(\">>>>>>>>>>>>>>>>>>>>>>>>>>>>>>>\")\n",
    "#通过设置inplace参数为True,在原Series上进行删除,不会返回Series\n",
    "print(s.dropna(inplace=True))\n",
    "print(\">>>>>>>>>>>>>>>>>>>>>>>>>>>>>>>\")\n",
    "#None\n",
    "print(s)"
   ]
  },
  {
   "cell_type": "markdown",
   "metadata": {},
   "source": [
    "## 2.2 DataFrame的缺失值过滤\n",
    "DataFrame删除缺失值相对于Series而言就要复杂一些，也许有的时候你是想删除含有缺失值的行或列，也许有时候你需要删除的是，当整行或整列全为缺失值的时候才删除，好在pandas对于这两种情况都有相对应的处理方法。\n",
    "### 2.2.1 删除含有缺失值的行和列\n"
   ]
  },
  {
   "cell_type": "code",
   "execution_count": 9,
   "metadata": {},
   "outputs": [
    {
     "name": "stdout",
     "output_type": "stream",
     "text": [
      "   0    1    2\n",
      "0  1  NaN  2.0\n",
      "1  9  NaN  NaN\n",
      "2  3  4.0  NaN\n",
      "3  5  6.0  7.0\n",
      ">>>>>>>>>>>>>>>>>>>>>>>>>>>>>>>\n",
      "   0    1    2\n",
      "3  5  6.0  7.0\n",
      ">>>>>>>>>>>>>>>>>>>>>>>>>>>>>>>\n",
      "   0\n",
      "0  1\n",
      "1  9\n",
      "2  3\n",
      "3  5\n"
     ]
    }
   ],
   "source": [
    "a = [[1, np.nan, 2],[9,None,np.nan],[3, 4, None],[5,6,7]]\n",
    "data = pd.DataFrame(a)\n",
    "print(data)\n",
    "print(\">>>>>>>>>>>>>>>>>>>>>>>>>>>>>>>\")\n",
    "#使用dropna方法删除含有缺失值的行，默认是行\n",
    "print(data.dropna())\n",
    "print(\">>>>>>>>>>>>>>>>>>>>>>>>>>>>>>>\")\n",
    "#删除含有缺失值的列\n",
    "print(data.dropna(axis=1))\n"
   ]
  },
  {
   "cell_type": "markdown",
   "metadata": {},
   "source": [
    "### 2.2.2 删除全为NaN的行和列"
   ]
  },
  {
   "cell_type": "code",
   "execution_count": 10,
   "metadata": {},
   "outputs": [
    {
     "name": "stdout",
     "output_type": "stream",
     "text": [
      "     0   1    2\n",
      "0  1.0 NaN  2.0\n",
      "1  NaN NaN  NaN\n",
      "2  3.0 NaN  NaN\n",
      "3  5.0 NaN  7.0\n",
      ">>>>>>>>>>>>>>>>>>>>>>>>>>>>>>>\n",
      "     0   1    2\n",
      "0  1.0 NaN  2.0\n",
      "2  3.0 NaN  NaN\n",
      "3  5.0 NaN  7.0\n",
      ">>>>>>>>>>>>>>>>>>>>>>>>>>>>>>>\n",
      "     0    2\n",
      "0  1.0  2.0\n",
      "1  NaN  NaN\n",
      "2  3.0  NaN\n",
      "3  5.0  7.0\n"
     ]
    }
   ],
   "source": [
    "a = [[1, np.nan, 2],[np.nan,None,np.nan],[3, None, None],[5,None,7]]\n",
    "data = pd.DataFrame(a)\n",
    "print(data)\n",
    "print(\">>>>>>>>>>>>>>>>>>>>>>>>>>>>>>>\")\n",
    "#当行全为NaN的时候,才删除,参数how默认是any,含有缺失值就删除\n",
    "print(data.dropna(how=\"all\"))\n",
    "print(\">>>>>>>>>>>>>>>>>>>>>>>>>>>>>>>\")\n",
    "#当列全为NaN的时候，才删除\n",
    "print(data.dropna(how=\"all\",axis=1))\n",
    "#dropna方法的inplace的设置与Series一样"
   ]
  },
  {
   "cell_type": "markdown",
   "metadata": {},
   "source": [
    "### 2.2.3 指定删除数据后显示部分数据观察"
   ]
  },
  {
   "cell_type": "code",
   "execution_count": 12,
   "metadata": {},
   "outputs": [
    {
     "name": "stdout",
     "output_type": "stream",
     "text": [
      "     0   1    2\n",
      "0  1.0 NaN  2.0\n",
      "1  NaN NaN  NaN\n",
      "2  3.0 NaN  NaN\n",
      "3  5.0 NaN  7.0\n",
      ">>>>>>>>>>>>>>>>>>>>>>>>>>>>>>>\n",
      "     0   1    2\n",
      "0  1.0 NaN  2.0\n",
      "2  3.0 NaN  NaN\n",
      "3  5.0 NaN  7.0\n",
      ">>>>>>>>>>>>>>>>>>>>>>>>>>>>>>>\n",
      "     0   1    2\n",
      "0  1.0 NaN  2.0\n",
      "3  5.0 NaN  7.0\n"
     ]
    }
   ],
   "source": [
    "a = [[1, np.nan, 2],[np.nan,None,np.nan],[3, None, None],[5,None,7]]\n",
    "data = pd.DataFrame(a)\n",
    "print(data)\n",
    "print(\">>>>>>>>>>>>>>>>>>>>>>>>>>>>>>>\")\n",
    "#当行全为NaN的时候,才删除,参数how默认是any,含有缺失值就删除\n",
    "print(data.dropna(how=\"all\"))\n",
    "print(\">>>>>>>>>>>>>>>>>>>>>>>>>>>>>>>\")\n",
    "#通过thresh参数来控制显示删除数据的条数，删除列的时候thresh参数无效\n",
    "print(data.dropna(how=\"all\",thresh=2))"
   ]
  },
  {
   "cell_type": "markdown",
   "metadata": {},
   "source": [
    "# 3 填充缺失值\n",
    "数据都是宝贵的，也许有时候你的数据不够多，因为数据越多对于模型的训练，数据分析都是有好处的，所以很多的时候我们都不想删除数据。通常情况下，也许你会选择用一些特殊值来填充缺失值。下面介绍使用pandas的fillna方法来填充缺失数据。\n",
    "## 3.1 指定特殊值填充缺失值"
   ]
  },
  {
   "cell_type": "code",
   "execution_count": 13,
   "metadata": {},
   "outputs": [
    {
     "name": "stdout",
     "output_type": "stream",
     "text": [
      "   0    1    2\n",
      "0  1  2.0  2.0\n",
      "1  3  NaN  6.0\n",
      "2  3  7.0  NaN\n",
      "3  5  NaN  7.0\n",
      ">>>>>>>>>>>>>>>>>>>>>>>>>>>>>>>\n",
      "   0    1    2\n",
      "0  1  2.0  2.0\n",
      "1  3  0.0  6.0\n",
      "2  3  7.0  0.0\n",
      "3  5  0.0  7.0\n"
     ]
    }
   ],
   "source": [
    "a = [[1, 2, 2],[3,None,6],[3, 7, None],[5,None,7]]\n",
    "data = pd.DataFrame(a)\n",
    "print(data)\n",
    "print(\">>>>>>>>>>>>>>>>>>>>>>>>>>>>>>>\")\n",
    "#用0填充所有的缺失数据\n",
    "print(data.fillna(0))"
   ]
  },
  {
   "cell_type": "markdown",
   "metadata": {},
   "source": [
    "## 3.2 不同列使用不同的填充值"
   ]
  },
  {
   "cell_type": "code",
   "execution_count": 14,
   "metadata": {},
   "outputs": [
    {
     "name": "stdout",
     "output_type": "stream",
     "text": [
      "   0    1    2\n",
      "0  1  2.0  2.0\n",
      "1  3  NaN  6.0\n",
      "2  3  7.0  NaN\n",
      "3  5  NaN  7.0\n",
      ">>>>>>>>>>>>>>>>>>>>>>>>>>>>>>>\n",
      "   0    1    2\n",
      "0  1  2.0  2.0\n",
      "1  3  1.0  6.0\n",
      "2  3  7.0  2.0\n",
      "3  5  1.0  7.0\n"
     ]
    }
   ],
   "source": [
    "a = [[1, 2, 2],[3,None,6],[3, 7, None],[5,None,7]]\n",
    "data = pd.DataFrame(a)\n",
    "print(data)\n",
    "print(\">>>>>>>>>>>>>>>>>>>>>>>>>>>>>>>\")\n",
    "print(data.fillna({1:1,2:2}))"
   ]
  },
  {
   "cell_type": "markdown",
   "metadata": {},
   "source": [
    "## 3.3 前向填充和后向填充"
   ]
  },
  {
   "cell_type": "code",
   "execution_count": 15,
   "metadata": {},
   "outputs": [
    {
     "name": "stdout",
     "output_type": "stream",
     "text": [
      "   0    1    2\n",
      "0  1  2.0  2.0\n",
      "1  3  NaN  6.0\n",
      "2  3  7.0  NaN\n",
      "3  5  NaN  7.0\n",
      ">>>>>>>>>>>>>>>>>>>>>>>>>>>>>>>\n",
      "   0    1    2\n",
      "0  1  2.0  2.0\n",
      "1  3  2.0  6.0\n",
      "2  3  7.0  6.0\n",
      "3  5  7.0  7.0\n",
      ">>>>>>>>>>>>>>>>>>>>>>>>>>>>>>>\n",
      "   0    1    2\n",
      "0  1  2.0  2.0\n",
      "1  3  7.0  6.0\n",
      "2  3  7.0  7.0\n",
      "3  5  NaN  7.0\n"
     ]
    }
   ],
   "source": [
    "a = [[1, 2, 2],[3,None,6],[3, 7, None],[5,None,7]]\n",
    "data = pd.DataFrame(a)\n",
    "print(data)\n",
    "print(\">>>>>>>>>>>>>>>>>>>>>>>>>>>>>>>\")\n",
    "#前向填充，使用默认是上一行的值,设置axis=1可以使用列进行填充\n",
    "print(data.fillna(method=\"ffill\"))\n",
    "print(\">>>>>>>>>>>>>>>>>>>>>>>>>>>>>>>\")\n",
    "#后向填充，使用下一行的值,不存在的时候就不填充\n",
    "print(data.fillna(method=\"bfill\"))"
   ]
  },
  {
   "cell_type": "markdown",
   "metadata": {},
   "source": [
    "## 3.4 使用列的平均值进行填充"
   ]
  },
  {
   "cell_type": "code",
   "execution_count": 16,
   "metadata": {},
   "outputs": [
    {
     "name": "stdout",
     "output_type": "stream",
     "text": [
      "   0    1    2\n",
      "0  1  2.0  2.0\n",
      "1  3  NaN  6.0\n",
      "2  3  7.0  NaN\n",
      "3  5  NaN  7.0\n",
      ">>>>>>>>>>>>>>>>>>>>>>>>>>>>>>>\n",
      "   0    1    2\n",
      "0  1  2.0  2.0\n",
      "1  3  4.5  6.0\n",
      "2  3  7.0  5.0\n",
      "3  5  4.5  7.0\n"
     ]
    }
   ],
   "source": [
    "a = [[1, 2, 2],[3,None,6],[3, 7, None],[5,None,7]]\n",
    "data = pd.DataFrame(a)\n",
    "print(data)\n",
    "print(\">>>>>>>>>>>>>>>>>>>>>>>>>>>>>>>\")\n",
    "print(data.fillna(data.mean()))"
   ]
  },
  {
   "cell_type": "code",
   "execution_count": null,
   "metadata": {},
   "outputs": [],
   "source": []
  },
  {
   "cell_type": "code",
   "execution_count": null,
   "metadata": {},
   "outputs": [],
   "source": []
  },
  {
   "cell_type": "code",
   "execution_count": null,
   "metadata": {},
   "outputs": [],
   "source": []
  },
  {
   "cell_type": "code",
   "execution_count": null,
   "metadata": {},
   "outputs": [],
   "source": []
  },
  {
   "cell_type": "code",
   "execution_count": null,
   "metadata": {},
   "outputs": [],
   "source": []
  }
 ],
 "metadata": {
  "kernelspec": {
   "display_name": "Python 3",
   "language": "python",
   "name": "python3"
  },
  "language_info": {
   "codemirror_mode": {
    "name": "ipython",
    "version": 3
   },
   "file_extension": ".py",
   "mimetype": "text/x-python",
   "name": "python",
   "nbconvert_exporter": "python",
   "pygments_lexer": "ipython3",
   "version": "3.6.6"
  }
 },
 "nbformat": 4,
 "nbformat_minor": 2
}
